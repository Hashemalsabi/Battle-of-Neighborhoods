{
 "cells": [
  {
   "cell_type": "code",
   "execution_count": 2,
   "metadata": {},
   "outputs": [],
   "source": [
    "# Data Analysis Libraries\n",
    "import pandas as pd\n",
    "import numpy as np \n",
    "\n",
    "#API libraries\n",
    "import requests\n",
    "from bs4 import BeautifulSoup\n",
    "\n",
    "# Library for flatenning json files\n",
    "from pandas.io.json import json_normalize\n",
    "\n",
    "# Matplotlib and associated plotting modules\n",
    "import matplotlib.cm as cm\n",
    "import matplotlib.colors as colors\n",
    "\n",
    "#K-means clustering from Sklearn\n",
    "from sklearn.cluster import KMeans\n",
    "\n",
    "#Library to construct and visualize maps\n",
    "import folium\n",
    "\n",
    "#Time libraries that will be used throughout the code to assess \n",
    "#complexity of any block of code\n",
    "import datetime \n",
    "import time"
   ]
  },
  {
   "cell_type": "code",
   "execution_count": 3,
   "metadata": {},
   "outputs": [
    {
     "name": "stdout",
     "output_type": "stream",
     "text": [
      "Time --- Minutes --- 0.03\n"
     ]
    }
   ],
   "source": [
    "start_time = time.time()\n",
    "################################\n",
    "\n",
    "\n",
    "URL='https://en.wikipedia.org/wiki/List_of_postal_codes_of_Canada:_M'\n",
    "web=requests.get(URL).text\n",
    "soup= BeautifulSoup(web, 'lxml')\n",
    "\n",
    "\n",
    "################################\n",
    "print(\"Time --- Minutes ---\", np.round((time.time() - start_time) / 60, decimals=2))"
   ]
  },
  {
   "cell_type": "code",
   "execution_count": 10,
   "metadata": {},
   "outputs": [
    {
     "name": "stdout",
     "output_type": "stream",
     "text": [
      "The first five elements of the list are: [<td>M1A\n",
      "</td>, <td>Not assigned\n",
      "</td>, <td>Not assigned\n",
      "</td>, <td>M2A\n",
      "</td>, <td>Not assigned\n",
      "</td>]\n",
      "Time --- Minutes --- 0.0\n"
     ]
    }
   ],
   "source": [
    "start_time = time.time()\n",
    "################################\n",
    "\n",
    "#Search for the table in the webpage\n",
    "my_table=soup.find('table')\n",
    "\n",
    "#Convert the table into a list\n",
    "entries = list(my_table.find_all('td'))\n",
    "\n",
    "print(\"The first five elements of the list are: {}\".format(entries[:5]))\n",
    "\n",
    "################################\n",
    "print(\"Time --- Minutes ---\", np.round((time.time() - start_time) / 60, decimals=2))"
   ]
  },
  {
   "cell_type": "code",
   "execution_count": 35,
   "metadata": {},
   "outputs": [
    {
     "name": "stdout",
     "output_type": "stream",
     "text": [
      "Time --- Minutes --- 0.0\n"
     ]
    }
   ],
   "source": [
    "start_time = time.time()\n",
    "################################\n",
    "\n",
    "#Convert the elements in the list into strings\n",
    "entries=[str(i) for i in entries]\n",
    "\n",
    "#removing the tags before and after the texts\n",
    "proper_entries=[k[4:len(k)-6] for k in entries]\n",
    "\n",
    "#Separating the entries into 3 lists\n",
    "PostalCode=[] \n",
    "Borough=[]\n",
    "Neighborhood=[]\n",
    "i=0\n",
    "while i<len(proper_entries):\n",
    "    PostalCode.append(proper_entries[i])\n",
    "    Borough.append(proper_entries[i+1])\n",
    "    Neighborhood.append(proper_entries[i+2])\n",
    "    \n",
    "    i=i+3\n",
    "    \n",
    "\n",
    "toronto_dataset=pd.DataFrame({'PostalCode':PostalCode, 'Borough':Borough, 'Neighborhood': Neighborhood})\n",
    "\n",
    "################################\n",
    "print(\"Time --- Minutes ---\", np.round((time.time() - start_time) / 60, decimals=2))"
   ]
  },
  {
   "cell_type": "code",
   "execution_count": 36,
   "metadata": {},
   "outputs": [
    {
     "data": {
      "text/html": [
       "<div>\n",
       "<style scoped>\n",
       "    .dataframe tbody tr th:only-of-type {\n",
       "        vertical-align: middle;\n",
       "    }\n",
       "\n",
       "    .dataframe tbody tr th {\n",
       "        vertical-align: top;\n",
       "    }\n",
       "\n",
       "    .dataframe thead th {\n",
       "        text-align: right;\n",
       "    }\n",
       "</style>\n",
       "<table border=\"1\" class=\"dataframe\">\n",
       "  <thead>\n",
       "    <tr style=\"text-align: right;\">\n",
       "      <th></th>\n",
       "      <th>Borough</th>\n",
       "      <th>Neighborhood</th>\n",
       "      <th>PostalCode</th>\n",
       "    </tr>\n",
       "  </thead>\n",
       "  <tbody>\n",
       "    <tr>\n",
       "      <th>0</th>\n",
       "      <td>Not assigned</td>\n",
       "      <td>Not assigned</td>\n",
       "      <td>M1A</td>\n",
       "    </tr>\n",
       "    <tr>\n",
       "      <th>1</th>\n",
       "      <td>Not assigned</td>\n",
       "      <td>Not assigned</td>\n",
       "      <td>M2A</td>\n",
       "    </tr>\n",
       "    <tr>\n",
       "      <th>2</th>\n",
       "      <td>North York</td>\n",
       "      <td>Parkwoods</td>\n",
       "      <td>M3A</td>\n",
       "    </tr>\n",
       "    <tr>\n",
       "      <th>3</th>\n",
       "      <td>North York</td>\n",
       "      <td>Victoria Village</td>\n",
       "      <td>M4A</td>\n",
       "    </tr>\n",
       "    <tr>\n",
       "      <th>4</th>\n",
       "      <td>Downtown Toronto</td>\n",
       "      <td>Regent Park, Harbourfront</td>\n",
       "      <td>M5A</td>\n",
       "    </tr>\n",
       "  </tbody>\n",
       "</table>\n",
       "</div>"
      ],
      "text/plain": [
       "            Borough               Neighborhood PostalCode\n",
       "0      Not assigned               Not assigned        M1A\n",
       "1      Not assigned               Not assigned        M2A\n",
       "2        North York                  Parkwoods        M3A\n",
       "3        North York           Victoria Village        M4A\n",
       "4  Downtown Toronto  Regent Park, Harbourfront        M5A"
      ]
     },
     "execution_count": 36,
     "metadata": {},
     "output_type": "execute_result"
    }
   ],
   "source": [
    "toronto_dataset.head()"
   ]
  },
  {
   "cell_type": "code",
   "execution_count": 37,
   "metadata": {},
   "outputs": [
    {
     "name": "stdout",
     "output_type": "stream",
     "text": [
      "Time --- Minutes --- 0.0\n"
     ]
    }
   ],
   "source": [
    "start_time = time.time()\n",
    "################################\n",
    "\n",
    "#Rearranging columns \n",
    "toronto_dataset=toronto_dataset[['PostalCode', 'Borough', 'Neighborhood']]\n",
    "\n",
    "#Removing entries in which Borough is Not assigned\n",
    "toronto_dataset=toronto_dataset[toronto_dataset['Borough']!='Not assigned']\n",
    "toronto_dataset.reset_index(inplace=True)\n",
    "toronto_dataset.drop(\"index\", axis=1, inplace=True)\n",
    "\n",
    "\n",
    "################################\n",
    "print(\"Time --- Minutes ---\", np.round((time.time() - start_time) / 60, decimals=2))"
   ]
  },
  {
   "cell_type": "code",
   "execution_count": 38,
   "metadata": {},
   "outputs": [
    {
     "name": "stdout",
     "output_type": "stream",
     "text": [
      "  PostalCode           Borough                                 Neighborhood\n",
      "0        M3A        North York                                    Parkwoods\n",
      "1        M4A        North York                             Victoria Village\n",
      "2        M5A  Downtown Toronto                    Regent Park, Harbourfront\n",
      "3        M6A        North York             Lawrence Manor, Lawrence Heights\n",
      "4        M7A  Downtown Toronto  Queen's Park, Ontario Provincial Government\n"
     ]
    },
    {
     "data": {
      "text/plain": [
       "(103, 3)"
      ]
     },
     "execution_count": 38,
     "metadata": {},
     "output_type": "execute_result"
    }
   ],
   "source": [
    "print(toronto_dataset.head())\n",
    "toronto_dataset.shape"
   ]
  },
  {
   "cell_type": "code",
   "execution_count": null,
   "metadata": {},
   "outputs": [],
   "source": []
  }
 ],
 "metadata": {
  "kernelspec": {
   "display_name": "Python 3",
   "language": "python",
   "name": "python3"
  },
  "language_info": {
   "codemirror_mode": {
    "name": "ipython",
    "version": 3
   },
   "file_extension": ".py",
   "mimetype": "text/x-python",
   "name": "python",
   "nbconvert_exporter": "python",
   "pygments_lexer": "ipython3",
   "version": "3.5.2"
  }
 },
 "nbformat": 4,
 "nbformat_minor": 4
}
